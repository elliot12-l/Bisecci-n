{
  "nbformat": 4,
  "nbformat_minor": 0,
  "metadata": {
    "colab": {
      "provenance": [],
      "include_colab_link": true
    },
    "kernelspec": {
      "name": "python3",
      "display_name": "Python 3"
    },
    "language_info": {
      "name": "python"
    }
  },
  "cells": [
    {
      "cell_type": "markdown",
      "metadata": {
        "id": "view-in-github",
        "colab_type": "text"
      },
      "source": [
        "<a href=\"https://colab.research.google.com/github/elliot12-l/Bisecci-n/blob/main/Ejercicio_8.ipynb\" target=\"_parent\"><img src=\"https://colab.research.google.com/assets/colab-badge.svg\" alt=\"Open In Colab\"/></a>"
      ]
    },
    {
      "cell_type": "markdown",
      "source": [
        "## Metodo Bisection\n",
        "\n"
      ],
      "metadata": {
        "id": "lITlbjmgVr3Y"
      }
    },
    {
      "cell_type": "code",
      "source": [
        "from typing import Callable\n",
        "def sign(x: float) -> int:\n",
        "    if x > 0:\n",
        "        return 1\n",
        "    elif x < 0:\n",
        "        return -1\n",
        "    else:\n",
        "        return 0"
      ],
      "metadata": {
        "id": "7QRONNzvqlWL"
      },
      "execution_count": 1,
      "outputs": []
    },
    {
      "cell_type": "code",
      "source": [
        "def bisection(\n",
        "    a: float, b: float, *, equation: Callable[[float], float], tol: float, N: int\n",
        ") -> tuple[float, float, float, int] | None:\n",
        "    i = 1\n",
        "    assert a < b, \"a not lower than b, the interval is not valid.\"\n",
        "    assert (\n",
        "        equation(a) * equation(b) < 0\n",
        "    ), \"The function does not change sign over the interval.\"\n",
        "\n",
        "    Fa = equation(a)\n",
        "    p = a # to avoid crash in i == 0.\n",
        "    while (b - a) / 2 > tol: # iterar hasta que el valor de la raiz sea mayor a la tolerancia\n",
        "        p = a + (b - a) / 2\n",
        "        FP = equation(p)\n",
        "        if FP == 0 or (b - a) / 2 < tol:\n",
        "            return p, a, b, i\n",
        "\n",
        "        if sign(Fa) * sign(FP) > 0:\n",
        "            a = p\n",
        "            Fa = FP\n",
        "        else:\n",
        "            b = p\n",
        "        i+=1\n",
        "\n",
        "    return p, a, b, i"
      ],
      "metadata": {
        "id": "wA__GwteI2Mj"
      },
      "execution_count": 15,
      "outputs": []
    },
    {
      "cell_type": "markdown",
      "source": [
        "## Ecuacion"
      ],
      "metadata": {
        "id": "an2MQUQQVwX9"
      }
    },
    {
      "cell_type": "code",
      "source": [
        "def equation(x: float) -> float:\n",
        "    return x**3-x-1"
      ],
      "metadata": {
        "id": "ao_YctlsqoIm"
      },
      "execution_count": 3,
      "outputs": []
    },
    {
      "cell_type": "code",
      "source": [
        "_, _, _, N = bisection(a=1, b=2, equation=equation, tol=1e-4, N=5)\n",
        "print(\"El numero maximo de iteraciones para lograr una aproximacion 1e-4 es:\", N)"
      ],
      "metadata": {
        "colab": {
          "base_uri": "https://localhost:8080/"
        },
        "id": "Wf5LaeV-Hd51",
        "outputId": "1d2c29a4-7a92-477c-f7e9-913b3958ec82"
      },
      "execution_count": 17,
      "outputs": [
        {
          "output_type": "stream",
          "name": "stdout",
          "text": [
            "El numero maximo de iteraciones para lograr una aproximacion 1e-4 es: 14\n"
          ]
        }
      ]
    }
  ]
}