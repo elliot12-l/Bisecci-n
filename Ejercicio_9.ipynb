{
  "nbformat": 4,
  "nbformat_minor": 0,
  "metadata": {
    "colab": {
      "provenance": [],
      "authorship_tag": "ABX9TyNjDOr8e/pEmKvWVy+umbeS",
      "include_colab_link": true
    },
    "kernelspec": {
      "name": "python3",
      "display_name": "Python 3"
    },
    "language_info": {
      "name": "python"
    }
  },
  "cells": [
    {
      "cell_type": "markdown",
      "metadata": {
        "id": "view-in-github",
        "colab_type": "text"
      },
      "source": [
        "<a href=\"https://colab.research.google.com/github/elliot12-l/Bisecci-n/blob/main/Ejercicio_9.ipynb\" target=\"_parent\"><img src=\"https://colab.research.google.com/assets/colab-badge.svg\" alt=\"Open In Colab\"/></a>"
      ]
    },
    {
      "cell_type": "markdown",
      "source": [
        "## a) 0, 𝑠𝑖 𝑎 + 𝑏 < 2"
      ],
      "metadata": {
        "id": "QK0BO6C5_a1H"
      }
    },
    {
      "cell_type": "code",
      "execution_count": 3,
      "metadata": {
        "colab": {
          "base_uri": "https://localhost:8080/"
        },
        "id": "OBn8q1xX8rWH",
        "outputId": "11165679-f456-47c5-c84f-6200fdc11de1"
      },
      "outputs": [
        {
          "output_type": "stream",
          "name": "stdout",
          "text": [
            "Intervalo: [-0.5, 0.5]\n",
            "Raíz aproximada: 0.0\n",
            "Número de iteraciones: 0\n",
            "\n",
            "Intervalo: [2.5, 3]\n",
            "Raíz aproximada: 2.9999923706054688\n",
            "Número de iteraciones: 15\n",
            "\n"
          ]
        }
      ],
      "source": [
        "import math\n",
        "\n",
        "def f(x):\n",
        "    return math.sin(math.pi * x)\n",
        "\n",
        "def bisection_method(f, a, b, tol):\n",
        "\n",
        "    iterations = 0\n",
        "    while (b - a) / 2.0 > tol:\n",
        "        midpoint = (a + b) / 2.0\n",
        "        if f(midpoint) == 0:\n",
        "            return midpoint, iterations\n",
        "        elif f(a) * f(midpoint) < 0:\n",
        "            b = midpoint\n",
        "        else:\n",
        "            a = midpoint\n",
        "        iterations += 1\n",
        "\n",
        "    return (a + b) / 2.0, iterations\n",
        "\n",
        "# Definir los intervalos y la tolerancia\n",
        "intervals = [(-0.5, 0.5), (2.5, 3)]\n",
        "tolerance = 10**-5\n",
        "\n",
        "# Ejecutar el método de bisección para ambos intervalos\n",
        "for interval in intervals:\n",
        "    a, b = interval\n",
        "    root, iterations = bisection_method(f, a, b, tolerance)\n",
        "    print(f\"Intervalo: [{a}, {b}]\")\n",
        "    print(f\"Raíz aproximada: {root}\")\n",
        "    print(f\"Número de iteraciones: {iterations}\")\n",
        "    print()"
      ]
    },
    {
      "cell_type": "markdown",
      "source": [
        "## b) 2, 𝑠𝑖 𝑎 + 𝑏 > 2"
      ],
      "metadata": {
        "id": "eLZ8cunb_flo"
      }
    },
    {
      "cell_type": "code",
      "source": [
        "import math\n",
        "\n",
        "def f(x):\n",
        "    return math.sin(math.pi * x)\n",
        "\n",
        "def bisection_method(f, a, b, tol):\n",
        "    if f(a) * f(b) > 0:\n",
        "        raise ValueError(\"El método de bisección no garantiza una raíz en este intervalo.\")\n",
        "\n",
        "    iterations = 0\n",
        "    while (b - a) / 2.0 > tol:\n",
        "        midpoint = (a + b) / 2.0\n",
        "        if f(midpoint) == 0:\n",
        "            return midpoint, iterations\n",
        "        elif f(a) * f(midpoint) < 0:\n",
        "            b = midpoint\n",
        "        else:\n",
        "            a = midpoint\n",
        "        iterations += 1\n",
        "\n",
        "    return (a + b) / 2.0, iterations\n",
        "\n",
        "# Definir los intervalos y la tolerancia\n",
        "intervals = [(-1, 0), (2, 3)]\n",
        "tolerance = 10**-5\n",
        "\n",
        "# Ejecutar el método de bisección para ambos intervalos\n",
        "results = {}\n",
        "for interval in intervals:\n",
        "    a, b = interval\n",
        "    root, iterations = bisection_method(f, a, b, tolerance)\n",
        "    results[interval] = (root, iterations)\n",
        "\n",
        "# Imprimir resultados\n",
        "for interval, result in results.items():\n",
        "    root, iterations = result\n",
        "    print(f\"Intervalo: {interval}\")\n",
        "    print(f\"Raíz aproximada: {root}\")\n",
        "    print(f\"Número de iteraciones: {iterations}\")\n",
        "    print()\n"
      ],
      "metadata": {
        "colab": {
          "base_uri": "https://localhost:8080/"
        },
        "id": "k7VzqFoO_TKH",
        "outputId": "3fed3a3c-29f8-4ea2-c841-b2e0efda1b8c"
      },
      "execution_count": 4,
      "outputs": [
        {
          "output_type": "stream",
          "name": "stdout",
          "text": [
            "Intervalo: (-1, 0)\n",
            "Raíz aproximada: -7.62939453125e-06\n",
            "Número de iteraciones: 16\n",
            "\n",
            "Intervalo: (2, 3)\n",
            "Raíz aproximada: 2.0000076293945312\n",
            "Número de iteraciones: 16\n",
            "\n"
          ]
        }
      ]
    },
    {
      "cell_type": "markdown",
      "source": [
        "## c) 1, 𝑠𝑖 𝑎 + 𝑏 = 2"
      ],
      "metadata": {
        "id": "1Jt3IHBJ_jA7"
      }
    },
    {
      "cell_type": "code",
      "source": [
        "import math\n",
        "\n",
        "def f(x):\n",
        "    return math.sin(math.pi * x)\n",
        "\n",
        "def bisection_method(f, a, b, tol):\n",
        "    if f(a) * f(b) > 0:\n",
        "        raise ValueError(\"El método de bisección no garantiza una raíz en este intervalo.\")\n",
        "\n",
        "    iterations = 0\n",
        "    while (b - a) / 2.0 > tol:\n",
        "        midpoint = (a + b) / 2.0\n",
        "        if f(midpoint) == 0:\n",
        "            return midpoint, iterations\n",
        "        elif f(a) * f(midpoint) < 0:\n",
        "            b = midpoint\n",
        "        else:\n",
        "            a = midpoint\n",
        "        iterations += 1\n",
        "\n",
        "    return (a + b) / 2.0, iterations\n",
        "\n",
        "# Definir los intervalos y la tolerancia\n",
        "intervals = [(-1, 0), (2, 3), (0, 2)]\n",
        "tolerance = 10**-5\n",
        "\n",
        "# Ejecutar el método de bisección para todos los intervalos\n",
        "results = {}\n",
        "for interval in intervals:\n",
        "    a, b = interval\n",
        "    root, iterations = bisection_method(f, a, b, tolerance)\n",
        "    results[interval] = (root, iterations)\n",
        "\n",
        "# Imprimir resultados\n",
        "for interval, result in results.items():\n",
        "    root, iterations = result\n",
        "    print(f\"Intervalo: {interval}\")\n",
        "    print(f\"Raíz aproximada: {root}\")\n",
        "    print(f\"Número de iteraciones: {iterations}\")\n",
        "    print()\n"
      ],
      "metadata": {
        "colab": {
          "base_uri": "https://localhost:8080/"
        },
        "id": "zTe7ikl8_ZqH",
        "outputId": "39ca52eb-1b07-4909-9acd-a0b0d7b748fa"
      },
      "execution_count": 5,
      "outputs": [
        {
          "output_type": "stream",
          "name": "stdout",
          "text": [
            "Intervalo: (-1, 0)\n",
            "Raíz aproximada: -7.62939453125e-06\n",
            "Número de iteraciones: 16\n",
            "\n",
            "Intervalo: (2, 3)\n",
            "Raíz aproximada: 2.0000076293945312\n",
            "Número de iteraciones: 16\n",
            "\n",
            "Intervalo: (0, 2)\n",
            "Raíz aproximada: 1.0000076293945312\n",
            "Número de iteraciones: 17\n",
            "\n"
          ]
        }
      ]
    }
  ]
}