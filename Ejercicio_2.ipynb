{
  "nbformat": 4,
  "nbformat_minor": 0,
  "metadata": {
    "colab": {
      "provenance": [],
      "authorship_tag": "ABX9TyNQ8D7dUMS2whR+Z0P0zS1c",
      "include_colab_link": true
    },
    "kernelspec": {
      "name": "python3",
      "display_name": "Python 3"
    },
    "language_info": {
      "name": "python"
    },
    "widgets": {
      "application/vnd.jupyter.widget-state+json": {
        "fc0ea96cb22a4a0caf18bc04494829c6": {
          "model_module": "@jupyter-widgets/controls",
          "model_name": "VBoxModel",
          "model_module_version": "1.5.0",
          "state": {
            "_dom_classes": [
              "widget-interact"
            ],
            "_model_module": "@jupyter-widgets/controls",
            "_model_module_version": "1.5.0",
            "_model_name": "VBoxModel",
            "_view_count": null,
            "_view_module": "@jupyter-widgets/controls",
            "_view_module_version": "1.5.0",
            "_view_name": "VBoxView",
            "box_style": "",
            "children": [
              "IPY_MODEL_715cc512face4e95adf513996df85e0b",
              "IPY_MODEL_638d30bd48094dde9bb3f501313f7ee6",
              "IPY_MODEL_df9ed4ad1a524937a000d87cc524a995",
              "IPY_MODEL_fa08fbe14b5d4ba1b27d54260e00cc1d"
            ],
            "layout": "IPY_MODEL_1f2c117895bd49bdbc833e205090d667"
          }
        },
        "715cc512face4e95adf513996df85e0b": {
          "model_module": "@jupyter-widgets/controls",
          "model_name": "FloatSliderModel",
          "model_module_version": "1.5.0",
          "state": {
            "_dom_classes": [],
            "_model_module": "@jupyter-widgets/controls",
            "_model_module_version": "1.5.0",
            "_model_name": "FloatSliderModel",
            "_view_count": null,
            "_view_module": "@jupyter-widgets/controls",
            "_view_module_version": "1.5.0",
            "_view_name": "FloatSliderView",
            "continuous_update": true,
            "description": "a",
            "description_tooltip": null,
            "disabled": false,
            "layout": "IPY_MODEL_7132c27b84d7484086b3ebba829981df",
            "max": 5,
            "min": -5,
            "orientation": "horizontal",
            "readout": true,
            "readout_format": ".2f",
            "step": 0.1,
            "style": "IPY_MODEL_18197c6a1698427aaf9de63ef4b038f6",
            "value": 0.1
          }
        },
        "638d30bd48094dde9bb3f501313f7ee6": {
          "model_module": "@jupyter-widgets/controls",
          "model_name": "FloatSliderModel",
          "model_module_version": "1.5.0",
          "state": {
            "_dom_classes": [],
            "_model_module": "@jupyter-widgets/controls",
            "_model_module_version": "1.5.0",
            "_model_name": "FloatSliderModel",
            "_view_count": null,
            "_view_module": "@jupyter-widgets/controls",
            "_view_module_version": "1.5.0",
            "_view_name": "FloatSliderView",
            "continuous_update": true,
            "description": "b",
            "description_tooltip": null,
            "disabled": false,
            "layout": "IPY_MODEL_1db32a598dae49f4b762af15eba33e7e",
            "max": 5,
            "min": -5,
            "orientation": "horizontal",
            "readout": true,
            "readout_format": ".2f",
            "step": 0.1,
            "style": "IPY_MODEL_03ed76f6ab834347b1320ae927cf03a3",
            "value": 3.7
          }
        },
        "df9ed4ad1a524937a000d87cc524a995": {
          "model_module": "@jupyter-widgets/controls",
          "model_name": "IntSliderModel",
          "model_module_version": "1.5.0",
          "state": {
            "_dom_classes": [],
            "_model_module": "@jupyter-widgets/controls",
            "_model_module_version": "1.5.0",
            "_model_name": "IntSliderModel",
            "_view_count": null,
            "_view_module": "@jupyter-widgets/controls",
            "_view_module_version": "1.5.0",
            "_view_name": "IntSliderView",
            "continuous_update": true,
            "description": "i",
            "description_tooltip": null,
            "disabled": false,
            "layout": "IPY_MODEL_cffbbf9bf12448db872063eba68cbc7d",
            "max": 11,
            "min": 0,
            "orientation": "horizontal",
            "readout": true,
            "readout_format": "d",
            "step": 1,
            "style": "IPY_MODEL_ec0c80f7ff2941feb276eab804ae5c54",
            "value": 8
          }
        },
        "fa08fbe14b5d4ba1b27d54260e00cc1d": {
          "model_module": "@jupyter-widgets/output",
          "model_name": "OutputModel",
          "model_module_version": "1.0.0",
          "state": {
            "_dom_classes": [],
            "_model_module": "@jupyter-widgets/output",
            "_model_module_version": "1.0.0",
            "_model_name": "OutputModel",
            "_view_count": null,
            "_view_module": "@jupyter-widgets/output",
            "_view_module_version": "1.0.0",
            "_view_name": "OutputView",
            "layout": "IPY_MODEL_1600f17e8e724de7b33811aab195ce7d",
            "msg_id": "",
            "outputs": [
              {
                "output_type": "display_data",
                "data": {
                  "text/plain": "<Figure size 640x480 with 1 Axes>",
                  "image/png": "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\n"
                },
                "metadata": {}
              }
            ]
          }
        },
        "1f2c117895bd49bdbc833e205090d667": {
          "model_module": "@jupyter-widgets/base",
          "model_name": "LayoutModel",
          "model_module_version": "1.2.0",
          "state": {
            "_model_module": "@jupyter-widgets/base",
            "_model_module_version": "1.2.0",
            "_model_name": "LayoutModel",
            "_view_count": null,
            "_view_module": "@jupyter-widgets/base",
            "_view_module_version": "1.2.0",
            "_view_name": "LayoutView",
            "align_content": null,
            "align_items": null,
            "align_self": null,
            "border": null,
            "bottom": null,
            "display": null,
            "flex": null,
            "flex_flow": null,
            "grid_area": null,
            "grid_auto_columns": null,
            "grid_auto_flow": null,
            "grid_auto_rows": null,
            "grid_column": null,
            "grid_gap": null,
            "grid_row": null,
            "grid_template_areas": null,
            "grid_template_columns": null,
            "grid_template_rows": null,
            "height": null,
            "justify_content": null,
            "justify_items": null,
            "left": null,
            "margin": null,
            "max_height": null,
            "max_width": null,
            "min_height": null,
            "min_width": null,
            "object_fit": null,
            "object_position": null,
            "order": null,
            "overflow": null,
            "overflow_x": null,
            "overflow_y": null,
            "padding": null,
            "right": null,
            "top": null,
            "visibility": null,
            "width": null
          }
        },
        "7132c27b84d7484086b3ebba829981df": {
          "model_module": "@jupyter-widgets/base",
          "model_name": "LayoutModel",
          "model_module_version": "1.2.0",
          "state": {
            "_model_module": "@jupyter-widgets/base",
            "_model_module_version": "1.2.0",
            "_model_name": "LayoutModel",
            "_view_count": null,
            "_view_module": "@jupyter-widgets/base",
            "_view_module_version": "1.2.0",
            "_view_name": "LayoutView",
            "align_content": null,
            "align_items": null,
            "align_self": null,
            "border": null,
            "bottom": null,
            "display": null,
            "flex": null,
            "flex_flow": null,
            "grid_area": null,
            "grid_auto_columns": null,
            "grid_auto_flow": null,
            "grid_auto_rows": null,
            "grid_column": null,
            "grid_gap": null,
            "grid_row": null,
            "grid_template_areas": null,
            "grid_template_columns": null,
            "grid_template_rows": null,
            "height": null,
            "justify_content": null,
            "justify_items": null,
            "left": null,
            "margin": null,
            "max_height": null,
            "max_width": null,
            "min_height": null,
            "min_width": null,
            "object_fit": null,
            "object_position": null,
            "order": null,
            "overflow": null,
            "overflow_x": null,
            "overflow_y": null,
            "padding": null,
            "right": null,
            "top": null,
            "visibility": null,
            "width": null
          }
        },
        "18197c6a1698427aaf9de63ef4b038f6": {
          "model_module": "@jupyter-widgets/controls",
          "model_name": "SliderStyleModel",
          "model_module_version": "1.5.0",
          "state": {
            "_model_module": "@jupyter-widgets/controls",
            "_model_module_version": "1.5.0",
            "_model_name": "SliderStyleModel",
            "_view_count": null,
            "_view_module": "@jupyter-widgets/base",
            "_view_module_version": "1.2.0",
            "_view_name": "StyleView",
            "description_width": "",
            "handle_color": null
          }
        },
        "1db32a598dae49f4b762af15eba33e7e": {
          "model_module": "@jupyter-widgets/base",
          "model_name": "LayoutModel",
          "model_module_version": "1.2.0",
          "state": {
            "_model_module": "@jupyter-widgets/base",
            "_model_module_version": "1.2.0",
            "_model_name": "LayoutModel",
            "_view_count": null,
            "_view_module": "@jupyter-widgets/base",
            "_view_module_version": "1.2.0",
            "_view_name": "LayoutView",
            "align_content": null,
            "align_items": null,
            "align_self": null,
            "border": null,
            "bottom": null,
            "display": null,
            "flex": null,
            "flex_flow": null,
            "grid_area": null,
            "grid_auto_columns": null,
            "grid_auto_flow": null,
            "grid_auto_rows": null,
            "grid_column": null,
            "grid_gap": null,
            "grid_row": null,
            "grid_template_areas": null,
            "grid_template_columns": null,
            "grid_template_rows": null,
            "height": null,
            "justify_content": null,
            "justify_items": null,
            "left": null,
            "margin": null,
            "max_height": null,
            "max_width": null,
            "min_height": null,
            "min_width": null,
            "object_fit": null,
            "object_position": null,
            "order": null,
            "overflow": null,
            "overflow_x": null,
            "overflow_y": null,
            "padding": null,
            "right": null,
            "top": null,
            "visibility": null,
            "width": null
          }
        },
        "03ed76f6ab834347b1320ae927cf03a3": {
          "model_module": "@jupyter-widgets/controls",
          "model_name": "SliderStyleModel",
          "model_module_version": "1.5.0",
          "state": {
            "_model_module": "@jupyter-widgets/controls",
            "_model_module_version": "1.5.0",
            "_model_name": "SliderStyleModel",
            "_view_count": null,
            "_view_module": "@jupyter-widgets/base",
            "_view_module_version": "1.2.0",
            "_view_name": "StyleView",
            "description_width": "",
            "handle_color": null
          }
        },
        "cffbbf9bf12448db872063eba68cbc7d": {
          "model_module": "@jupyter-widgets/base",
          "model_name": "LayoutModel",
          "model_module_version": "1.2.0",
          "state": {
            "_model_module": "@jupyter-widgets/base",
            "_model_module_version": "1.2.0",
            "_model_name": "LayoutModel",
            "_view_count": null,
            "_view_module": "@jupyter-widgets/base",
            "_view_module_version": "1.2.0",
            "_view_name": "LayoutView",
            "align_content": null,
            "align_items": null,
            "align_self": null,
            "border": null,
            "bottom": null,
            "display": null,
            "flex": null,
            "flex_flow": null,
            "grid_area": null,
            "grid_auto_columns": null,
            "grid_auto_flow": null,
            "grid_auto_rows": null,
            "grid_column": null,
            "grid_gap": null,
            "grid_row": null,
            "grid_template_areas": null,
            "grid_template_columns": null,
            "grid_template_rows": null,
            "height": null,
            "justify_content": null,
            "justify_items": null,
            "left": null,
            "margin": null,
            "max_height": null,
            "max_width": null,
            "min_height": null,
            "min_width": null,
            "object_fit": null,
            "object_position": null,
            "order": null,
            "overflow": null,
            "overflow_x": null,
            "overflow_y": null,
            "padding": null,
            "right": null,
            "top": null,
            "visibility": null,
            "width": null
          }
        },
        "ec0c80f7ff2941feb276eab804ae5c54": {
          "model_module": "@jupyter-widgets/controls",
          "model_name": "SliderStyleModel",
          "model_module_version": "1.5.0",
          "state": {
            "_model_module": "@jupyter-widgets/controls",
            "_model_module_version": "1.5.0",
            "_model_name": "SliderStyleModel",
            "_view_count": null,
            "_view_module": "@jupyter-widgets/base",
            "_view_module_version": "1.2.0",
            "_view_name": "StyleView",
            "description_width": "",
            "handle_color": null
          }
        },
        "1600f17e8e724de7b33811aab195ce7d": {
          "model_module": "@jupyter-widgets/base",
          "model_name": "LayoutModel",
          "model_module_version": "1.2.0",
          "state": {
            "_model_module": "@jupyter-widgets/base",
            "_model_module_version": "1.2.0",
            "_model_name": "LayoutModel",
            "_view_count": null,
            "_view_module": "@jupyter-widgets/base",
            "_view_module_version": "1.2.0",
            "_view_name": "LayoutView",
            "align_content": null,
            "align_items": null,
            "align_self": null,
            "border": null,
            "bottom": null,
            "display": null,
            "flex": null,
            "flex_flow": null,
            "grid_area": null,
            "grid_auto_columns": null,
            "grid_auto_flow": null,
            "grid_auto_rows": null,
            "grid_column": null,
            "grid_gap": null,
            "grid_row": null,
            "grid_template_areas": null,
            "grid_template_columns": null,
            "grid_template_rows": null,
            "height": null,
            "justify_content": null,
            "justify_items": null,
            "left": null,
            "margin": null,
            "max_height": null,
            "max_width": null,
            "min_height": null,
            "min_width": null,
            "object_fit": null,
            "object_position": null,
            "order": null,
            "overflow": null,
            "overflow_x": null,
            "overflow_y": null,
            "padding": null,
            "right": null,
            "top": null,
            "visibility": null,
            "width": null
          }
        }
      }
    }
  },
  "cells": [
    {
      "cell_type": "markdown",
      "metadata": {
        "id": "view-in-github",
        "colab_type": "text"
      },
      "source": [
        "<a href=\"https://colab.research.google.com/github/elliot12-l/Bisecci-n/blob/main/Ejercicio_2.ipynb\" target=\"_parent\"><img src=\"https://colab.research.google.com/assets/colab-badge.svg\" alt=\"Open In Colab\"/></a>"
      ]
    },
    {
      "cell_type": "code",
      "execution_count": 3,
      "metadata": {
        "colab": {
          "base_uri": "https://localhost:8080/",
          "height": 474
        },
        "id": "AnQMmHR8H705",
        "outputId": "5939b724-7b2b-4ad5-c48f-dbaafe7f5791"
      },
      "outputs": [
        {
          "output_type": "display_data",
          "data": {
            "text/plain": [
              "<Figure size 640x480 with 1 Axes>"
            ],
            "image/png": "[encoded data removed]"
          },
          "metadata": {}
        }
      ],
      "source": [
        "import numpy as np\n",
        "\n",
        "import matplotlib.pyplot as plt\n",
        "\n",
        "def equation(x:float)->float:\n",
        "    return x\n",
        "\n",
        "# Generate x values\n",
        "x = np.linspace(-10, 10, 100)\n",
        "\n",
        "# Calculate y values\n",
        "y = equation(x)\n",
        "\n",
        "# Plot the equation\n",
        "plt.plot(x, y)\n",
        "\n",
        "plt.xlabel('x')\n",
        "plt.ylabel('y')\n",
        "plt.title('Plot of $y=x$')\n",
        "ax = plt.gca()\n",
        "ax.set_ylim([0, 10])\n",
        "ax.set_xlim([0, 10])\n",
        "plt.grid(True)\n",
        "plt.show()\n"
      ]
    },
    {
      "cell_type": "code",
      "source": [
        "import numpy as np\n",
        "\n",
        "import matplotlib.pyplot as plt\n",
        "\n",
        "def equation(x:float)->float:\n",
        "    return np.sin(x)\n",
        "\n",
        "# Generate x values\n",
        "x = np.linspace(-10, 10, 100)\n",
        "\n",
        "# Calculate y values\n",
        "y = equation(x)\n",
        "\n",
        "# Plot the equation\n",
        "plt.plot(x, y)\n",
        "\n",
        "plt.xlabel('x')\n",
        "plt.ylabel('y')\n",
        "plt.title('Plot of $y=\\sin x$')\n",
        "ax = plt.gca()\n",
        "ax.set_ylim([-3, 3])\n",
        "ax.set_xlim([0, 8])\n",
        "plt.grid(True)\n",
        "plt.show()"
      ],
      "metadata": {
        "colab": {
          "base_uri": "https://localhost:8080/",
          "height": 474
        },
        "id": "Hko0F9J2IQck",
        "outputId": "d55a7e05-0900-4062-f690-316138319236"
      },
      "execution_count": 17,
      "outputs": [
        {
          "output_type": "display_data",
          "data": {
            "text/plain": [
              "<Figure size 640x480 with 1 Axes>"
            ],
            "image/png": "[encoded data removed]"
          },
          "metadata": {}
        }
      ]
    },
    {
      "cell_type": "markdown",
      "source": [
        "### Biseccion"
      ],
      "metadata": {
        "id": "5A4NofgNI0Mn"
      }
    },
    {
      "cell_type": "code",
      "source": [
        "from typing import Callable\n",
        "def sign(x: float) -> int:\n",
        "    if x > 0:\n",
        "        return 1\n",
        "    elif x < 0:\n",
        "        return -1\n",
        "    else:\n",
        "        return 0\n",
        "def bisection(\n",
        "    a: float, b: float, *, equation: Callable[[float], float], tol: float, N: int\n",
        ") -> tuple[float, float, float, int] | None:\n",
        "    i = 1\n",
        "\n",
        "    # Input validation\n",
        "    # Comente a continuación y vea qué sucede\n",
        "    assert a < b, \"a not lower than b, the interval is not valid.\"\n",
        "\n",
        "    # Comente a continuación y vea qué sucede\n",
        "    assert (\n",
        "        equation(a) * equation(b) < 0\n",
        "    ), \"The function does not change sign over the interval.\"\n",
        "\n",
        "    Fa = equation(a)\n",
        "    p = a # to avoid crash in i == 0.\n",
        "    for i in range(N):\n",
        "\n",
        "        # esta alternativa es suceptible de desborde, especialmente si a y b son muy grandes\n",
        "        # p = (a + b)/2\n",
        "\n",
        "        p = a + (b - a) / 2\n",
        "        FP = equation(p)\n",
        "        if FP == 0 or (b - a) / 2 < tol:\n",
        "            return p, a, b, i\n",
        "\n",
        "        if sign(Fa) * sign(FP) > 0:\n",
        "\n",
        "            # esta alternativa podría causar también un desborde\n",
        "            # if Fa * FP > 0:\n",
        "\n",
        "            a = p\n",
        "            Fa = FP\n",
        "        else:\n",
        "            b = p\n",
        "\n",
        "    # Respuesta temporal\n",
        "    return p, a, b, i\n",
        "\n",
        "    # Es mejor usar esta opción, cuando el algoritmo no llega a una tolerancia en\n",
        "    # las iteraciones dadas.\n",
        "\n",
        "    # raise ValueError(\n",
        "    #     \"Solution not found within the given tolerance and number of iterations\"\n",
        "    # )\n",
        "def equation(x: float) -> float:\n",
        "    return x-2*np.sin(x)"
      ],
      "metadata": {
        "id": "wA__GwteI2Mj"
      },
      "execution_count": 14,
      "outputs": []
    },
    {
      "cell_type": "code",
      "source": [
        "import numpy as np\n",
        "import matplotlib.pyplot as plt\n",
        "from ipywidgets import interactive\n",
        "\n",
        "\n",
        "def plotting(a, b, i):\n",
        "    x = np.linspace(a, b, 100)\n",
        "\n",
        "    y = equation(x)\n",
        "    x_i = x[0]\n",
        "    try:\n",
        "      x_i, a2, b2, i = bisection(a, b, equation=equation, tol=1e-5, N=i)\n",
        "      all = True\n",
        "    except Exception as e:\n",
        "      all = False\n",
        "      print(e)\n",
        "      a2 = b2 = (a + b)/2\n",
        "\n",
        "    ax = plt.gca()\n",
        "    ax.cla()\n",
        "    plt.plot(x, y);\n",
        "\n",
        "    plt.xlabel('x');\n",
        "    plt.ylabel('y');\n",
        "    plt.title('Plot of $x-2\\sin x =0$');\n",
        "    plt.scatter(a, equation(a), color='blue', label='initial left lim');\n",
        "    plt.scatter(b, equation(b), color='blue', label='initial right lim');\n",
        "    if all:\n",
        "      plt.scatter(a2, equation(a2), color='red')\n",
        "      plt.scatter(b2, equation(b2), color='red')\n",
        "      plt.scatter(x_i, 0, color='green', marker = \"s\", label='root');\n",
        "\n",
        "      plt.hlines(0, a, b, colors= \"black\")\n",
        "    plt.grid(True);\n",
        "    plt.legend();\n",
        "\n",
        "    plt.show();\n",
        "\n",
        "interactive_plot = interactive(plotting, a=(-5,5,.1), b=(-5,5,.1), i=(0,11,1))\n",
        "display(interactive_plot);\n"
      ],
      "metadata": {
        "colab": {
          "base_uri": "https://localhost:8080/",
          "height": 568,
          "referenced_widgets": [
            "fc0ea96cb22a4a0caf18bc04494829c6",
            "715cc512face4e95adf513996df85e0b",
            "638d30bd48094dde9bb3f501313f7ee6",
            "df9ed4ad1a524937a000d87cc524a995",
            "fa08fbe14b5d4ba1b27d54260e00cc1d",
            "1f2c117895bd49bdbc833e205090d667",
            "7132c27b84d7484086b3ebba829981df",
            "18197c6a1698427aaf9de63ef4b038f6",
            "1db32a598dae49f4b762af15eba33e7e",
            "03ed76f6ab834347b1320ae927cf03a3",
            "cffbbf9bf12448db872063eba68cbc7d",
            "ec0c80f7ff2941feb276eab804ae5c54",
            "1600f17e8e724de7b33811aab195ce7d"
          ]
        },
        "id": "pJdLP9MnI9po",
        "outputId": "a8400cc5-07ee-415b-9167-ce500c14220d"
      },
      "execution_count": 16,
      "outputs": [
        {
          "output_type": "display_data",
          "data": {
            "text/plain": [
              "interactive(children=(FloatSlider(value=0.0, description='a', max=5.0, min=-5.0), FloatSlider(value=0.0, descr…"
            ],
            "application/vnd.jupyter.widget-view+json": {
              "version_major": 2,
              "version_minor": 0,
              "model_id": "fc0ea96cb22a4a0caf18bc04494829c6"
            }
          },
          "metadata": {}
        }
      ]
    }
  ]
}