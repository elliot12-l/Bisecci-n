{
  "nbformat": 4,
  "nbformat_minor": 0,
  "metadata": {
    "colab": {
      "provenance": [],
      "authorship_tag": "ABX9TyNb1CRKg2HSPookBBW1pChh",
      "include_colab_link": true
    },
    "kernelspec": {
      "name": "python3",
      "display_name": "Python 3"
    },
    "language_info": {
      "name": "python"
    },
    "widgets": {
      "application/vnd.jupyter.widget-state+json": {
        "8914c1afae624371a90e0266f0ee9378": {
          "model_module": "@jupyter-widgets/controls",
          "model_name": "VBoxModel",
          "model_module_version": "1.5.0",
          "state": {
            "_dom_classes": [
              "widget-interact"
            ],
            "_model_module": "@jupyter-widgets/controls",
            "_model_module_version": "1.5.0",
            "_model_name": "VBoxModel",
            "_view_count": null,
            "_view_module": "@jupyter-widgets/controls",
            "_view_module_version": "1.5.0",
            "_view_name": "VBoxView",
            "box_style": "",
            "children": [
              "IPY_MODEL_f5caa740c1f04e88beb08767e516df57",
              "IPY_MODEL_8e6e1cda96c14e8e9298c55e9b2824e7",
              "IPY_MODEL_e2a95f3418e4471e9a7e9abdba99ec72",
              "IPY_MODEL_650d7f281989484ca77be0b2c9c46478"
            ],
            "layout": "IPY_MODEL_618b2e6a6e60459bb17582529c950aa4"
          }
        },
        "f5caa740c1f04e88beb08767e516df57": {
          "model_module": "@jupyter-widgets/controls",
          "model_name": "FloatSliderModel",
          "model_module_version": "1.5.0",
          "state": {
            "_dom_classes": [],
            "_model_module": "@jupyter-widgets/controls",
            "_model_module_version": "1.5.0",
            "_model_name": "FloatSliderModel",
            "_view_count": null,
            "_view_module": "@jupyter-widgets/controls",
            "_view_module_version": "1.5.0",
            "_view_name": "FloatSliderView",
            "continuous_update": true,
            "description": "a",
            "description_tooltip": null,
            "disabled": false,
            "layout": "IPY_MODEL_e5828b8e02994d82942d1c97d18ae641",
            "max": 5,
            "min": -5,
            "orientation": "horizontal",
            "readout": true,
            "readout_format": ".2f",
            "step": 0.1,
            "style": "IPY_MODEL_a7a81a577eba43218a7cdc853c3723d2",
            "value": 0.1
          }
        },
        "8e6e1cda96c14e8e9298c55e9b2824e7": {
          "model_module": "@jupyter-widgets/controls",
          "model_name": "FloatSliderModel",
          "model_module_version": "1.5.0",
          "state": {
            "_dom_classes": [],
            "_model_module": "@jupyter-widgets/controls",
            "_model_module_version": "1.5.0",
            "_model_name": "FloatSliderModel",
            "_view_count": null,
            "_view_module": "@jupyter-widgets/controls",
            "_view_module_version": "1.5.0",
            "_view_name": "FloatSliderView",
            "continuous_update": true,
            "description": "b",
            "description_tooltip": null,
            "disabled": false,
            "layout": "IPY_MODEL_285233ff081b42769c02b1cedc336d1c",
            "max": 5,
            "min": -5,
            "orientation": "horizontal",
            "readout": true,
            "readout_format": ".2f",
            "step": 0.1,
            "style": "IPY_MODEL_70c6984601414d9a808adde3dc938e15",
            "value": 3.5
          }
        },
        "e2a95f3418e4471e9a7e9abdba99ec72": {
          "model_module": "@jupyter-widgets/controls",
          "model_name": "IntSliderModel",
          "model_module_version": "1.5.0",
          "state": {
            "_dom_classes": [],
            "_model_module": "@jupyter-widgets/controls",
            "_model_module_version": "1.5.0",
            "_model_name": "IntSliderModel",
            "_view_count": null,
            "_view_module": "@jupyter-widgets/controls",
            "_view_module_version": "1.5.0",
            "_view_name": "IntSliderView",
            "continuous_update": true,
            "description": "i",
            "description_tooltip": null,
            "disabled": false,
            "layout": "IPY_MODEL_6d7bc0d3087c4831a1f2658a26fcd932",
            "max": 11,
            "min": 0,
            "orientation": "horizontal",
            "readout": true,
            "readout_format": "d",
            "step": 1,
            "style": "IPY_MODEL_30327e1b922046f49af751a729bf982a",
            "value": 5
          }
        },
        "650d7f281989484ca77be0b2c9c46478": {
          "model_module": "@jupyter-widgets/output",
          "model_name": "OutputModel",
          "model_module_version": "1.0.0",
          "state": {
            "_dom_classes": [],
            "_model_module": "@jupyter-widgets/output",
            "_model_module_version": "1.0.0",
            "_model_name": "OutputModel",
            "_view_count": null,
            "_view_module": "@jupyter-widgets/output",
            "_view_module_version": "1.0.0",
            "_view_name": "OutputView",
            "layout": "IPY_MODEL_fa55f08d2b3e4f8da958a7bdad502edb",
            "msg_id": "",
            "outputs": [
              {
                "output_type": "display_data",
                "data": {
                  "text/plain": "<Figure size 640x480 with 1 Axes>",
                  "image/png": "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\n"
                },
                "metadata": {}
              }
            ]
          }
        },
        "618b2e6a6e60459bb17582529c950aa4": {
          "model_module": "@jupyter-widgets/base",
          "model_name": "LayoutModel",
          "model_module_version": "1.2.0",
          "state": {
            "_model_module": "@jupyter-widgets/base",
            "_model_module_version": "1.2.0",
            "_model_name": "LayoutModel",
            "_view_count": null,
            "_view_module": "@jupyter-widgets/base",
            "_view_module_version": "1.2.0",
            "_view_name": "LayoutView",
            "align_content": null,
            "align_items": null,
            "align_self": null,
            "border": null,
            "bottom": null,
            "display": null,
            "flex": null,
            "flex_flow": null,
            "grid_area": null,
            "grid_auto_columns": null,
            "grid_auto_flow": null,
            "grid_auto_rows": null,
            "grid_column": null,
            "grid_gap": null,
            "grid_row": null,
            "grid_template_areas": null,
            "grid_template_columns": null,
            "grid_template_rows": null,
            "height": null,
            "justify_content": null,
            "justify_items": null,
            "left": null,
            "margin": null,
            "max_height": null,
            "max_width": null,
            "min_height": null,
            "min_width": null,
            "object_fit": null,
            "object_position": null,
            "order": null,
            "overflow": null,
            "overflow_x": null,
            "overflow_y": null,
            "padding": null,
            "right": null,
            "top": null,
            "visibility": null,
            "width": null
          }
        },
        "e5828b8e02994d82942d1c97d18ae641": {
          "model_module": "@jupyter-widgets/base",
          "model_name": "LayoutModel",
          "model_module_version": "1.2.0",
          "state": {
            "_model_module": "@jupyter-widgets/base",
            "_model_module_version": "1.2.0",
            "_model_name": "LayoutModel",
            "_view_count": null,
            "_view_module": "@jupyter-widgets/base",
            "_view_module_version": "1.2.0",
            "_view_name": "LayoutView",
            "align_content": null,
            "align_items": null,
            "align_self": null,
            "border": null,
            "bottom": null,
            "display": null,
            "flex": null,
            "flex_flow": null,
            "grid_area": null,
            "grid_auto_columns": null,
            "grid_auto_flow": null,
            "grid_auto_rows": null,
            "grid_column": null,
            "grid_gap": null,
            "grid_row": null,
            "grid_template_areas": null,
            "grid_template_columns": null,
            "grid_template_rows": null,
            "height": null,
            "justify_content": null,
            "justify_items": null,
            "left": null,
            "margin": null,
            "max_height": null,
            "max_width": null,
            "min_height": null,
            "min_width": null,
            "object_fit": null,
            "object_position": null,
            "order": null,
            "overflow": null,
            "overflow_x": null,
            "overflow_y": null,
            "padding": null,
            "right": null,
            "top": null,
            "visibility": null,
            "width": null
          }
        },
        "a7a81a577eba43218a7cdc853c3723d2": {
          "model_module": "@jupyter-widgets/controls",
          "model_name": "SliderStyleModel",
          "model_module_version": "1.5.0",
          "state": {
            "_model_module": "@jupyter-widgets/controls",
            "_model_module_version": "1.5.0",
            "_model_name": "SliderStyleModel",
            "_view_count": null,
            "_view_module": "@jupyter-widgets/base",
            "_view_module_version": "1.2.0",
            "_view_name": "StyleView",
            "description_width": "",
            "handle_color": null
          }
        },
        "285233ff081b42769c02b1cedc336d1c": {
          "model_module": "@jupyter-widgets/base",
          "model_name": "LayoutModel",
          "model_module_version": "1.2.0",
          "state": {
            "_model_module": "@jupyter-widgets/base",
            "_model_module_version": "1.2.0",
            "_model_name": "LayoutModel",
            "_view_count": null,
            "_view_module": "@jupyter-widgets/base",
            "_view_module_version": "1.2.0",
            "_view_name": "LayoutView",
            "align_content": null,
            "align_items": null,
            "align_self": null,
            "border": null,
            "bottom": null,
            "display": null,
            "flex": null,
            "flex_flow": null,
            "grid_area": null,
            "grid_auto_columns": null,
            "grid_auto_flow": null,
            "grid_auto_rows": null,
            "grid_column": null,
            "grid_gap": null,
            "grid_row": null,
            "grid_template_areas": null,
            "grid_template_columns": null,
            "grid_template_rows": null,
            "height": null,
            "justify_content": null,
            "justify_items": null,
            "left": null,
            "margin": null,
            "max_height": null,
            "max_width": null,
            "min_height": null,
            "min_width": null,
            "object_fit": null,
            "object_position": null,
            "order": null,
            "overflow": null,
            "overflow_x": null,
            "overflow_y": null,
            "padding": null,
            "right": null,
            "top": null,
            "visibility": null,
            "width": null
          }
        },
        "70c6984601414d9a808adde3dc938e15": {
          "model_module": "@jupyter-widgets/controls",
          "model_name": "SliderStyleModel",
          "model_module_version": "1.5.0",
          "state": {
            "_model_module": "@jupyter-widgets/controls",
            "_model_module_version": "1.5.0",
            "_model_name": "SliderStyleModel",
            "_view_count": null,
            "_view_module": "@jupyter-widgets/base",
            "_view_module_version": "1.2.0",
            "_view_name": "StyleView",
            "description_width": "",
            "handle_color": null
          }
        },
        "6d7bc0d3087c4831a1f2658a26fcd932": {
          "model_module": "@jupyter-widgets/base",
          "model_name": "LayoutModel",
          "model_module_version": "1.2.0",
          "state": {
            "_model_module": "@jupyter-widgets/base",
            "_model_module_version": "1.2.0",
            "_model_name": "LayoutModel",
            "_view_count": null,
            "_view_module": "@jupyter-widgets/base",
            "_view_module_version": "1.2.0",
            "_view_name": "LayoutView",
            "align_content": null,
            "align_items": null,
            "align_self": null,
            "border": null,
            "bottom": null,
            "display": null,
            "flex": null,
            "flex_flow": null,
            "grid_area": null,
            "grid_auto_columns": null,
            "grid_auto_flow": null,
            "grid_auto_rows": null,
            "grid_column": null,
            "grid_gap": null,
            "grid_row": null,
            "grid_template_areas": null,
            "grid_template_columns": null,
            "grid_template_rows": null,
            "height": null,
            "justify_content": null,
            "justify_items": null,
            "left": null,
            "margin": null,
            "max_height": null,
            "max_width": null,
            "min_height": null,
            "min_width": null,
            "object_fit": null,
            "object_position": null,
            "order": null,
            "overflow": null,
            "overflow_x": null,
            "overflow_y": null,
            "padding": null,
            "right": null,
            "top": null,
            "visibility": null,
            "width": null
          }
        },
        "30327e1b922046f49af751a729bf982a": {
          "model_module": "@jupyter-widgets/controls",
          "model_name": "SliderStyleModel",
          "model_module_version": "1.5.0",
          "state": {
            "_model_module": "@jupyter-widgets/controls",
            "_model_module_version": "1.5.0",
            "_model_name": "SliderStyleModel",
            "_view_count": null,
            "_view_module": "@jupyter-widgets/base",
            "_view_module_version": "1.2.0",
            "_view_name": "StyleView",
            "description_width": "",
            "handle_color": null
          }
        },
        "fa55f08d2b3e4f8da958a7bdad502edb": {
          "model_module": "@jupyter-widgets/base",
          "model_name": "LayoutModel",
          "model_module_version": "1.2.0",
          "state": {
            "_model_module": "@jupyter-widgets/base",
            "_model_module_version": "1.2.0",
            "_model_name": "LayoutModel",
            "_view_count": null,
            "_view_module": "@jupyter-widgets/base",
            "_view_module_version": "1.2.0",
            "_view_name": "LayoutView",
            "align_content": null,
            "align_items": null,
            "align_self": null,
            "border": null,
            "bottom": null,
            "display": null,
            "flex": null,
            "flex_flow": null,
            "grid_area": null,
            "grid_auto_columns": null,
            "grid_auto_flow": null,
            "grid_auto_rows": null,
            "grid_column": null,
            "grid_gap": null,
            "grid_row": null,
            "grid_template_areas": null,
            "grid_template_columns": null,
            "grid_template_rows": null,
            "height": null,
            "justify_content": null,
            "justify_items": null,
            "left": null,
            "margin": null,
            "max_height": null,
            "max_width": null,
            "min_height": null,
            "min_width": null,
            "object_fit": null,
            "object_position": null,
            "order": null,
            "overflow": null,
            "overflow_x": null,
            "overflow_y": null,
            "padding": null,
            "right": null,
            "top": null,
            "visibility": null,
            "width": null
          }
        }
      }
    }
  },
  "cells": [
    {
      "cell_type": "markdown",
      "metadata": {
        "id": "view-in-github",
        "colab_type": "text"
      },
      "source": [
        "<a href=\"https://colab.research.google.com/github/elliot12-l/Bisecci-n/blob/main/Ejercicio_2.ipynb\" target=\"_parent\"><img src=\"https://colab.research.google.com/assets/colab-badge.svg\" alt=\"Open In Colab\"/></a>"
      ]
    },
    {
      "cell_type": "code",
      "execution_count": 3,
      "metadata": {
        "colab": {
          "base_uri": "https://localhost:8080/",
          "height": 474
        },
        "id": "AnQMmHR8H705",
        "outputId": "5939b724-7b2b-4ad5-c48f-dbaafe7f5791"
      },
      "outputs": [
        {
          "output_type": "display_data",
          "data": {
            "text/plain": [
              "<Figure size 640x480 with 1 Axes>"
            ],
            "image/png": "[encoded data removed]"
          },
          "metadata": {}
        }
      ],
      "source": [
        "import numpy as np\n",
        "\n",
        "import matplotlib.pyplot as plt\n",
        "\n",
        "def equation(x:float)->float:\n",
        "    return x\n",
        "\n",
        "# Generate x values\n",
        "x = np.linspace(-10, 10, 100)\n",
        "\n",
        "# Calculate y values\n",
        "y = equation(x)\n",
        "\n",
        "# Plot the equation\n",
        "plt.plot(x, y)\n",
        "\n",
        "plt.xlabel('x')\n",
        "plt.ylabel('y')\n",
        "plt.title('Plot of $y=x$')\n",
        "ax = plt.gca()\n",
        "ax.set_ylim([0, 10])\n",
        "ax.set_xlim([0, 10])\n",
        "plt.grid(True)\n",
        "plt.show()\n"
      ]
    },
    {
      "cell_type": "code",
      "source": [
        "import numpy as np\n",
        "\n",
        "import matplotlib.pyplot as plt\n",
        "\n",
        "def equation(x:float)->float:\n",
        "    return np.sin(x)\n",
        "\n",
        "# Generate x values\n",
        "x = np.linspace(-10, 10, 100)\n",
        "\n",
        "# Calculate y values\n",
        "y = equation(x)\n",
        "\n",
        "# Plot the equation\n",
        "plt.plot(x, y)\n",
        "\n",
        "plt.xlabel('x')\n",
        "plt.ylabel('y')\n",
        "plt.title('Plot of $y=\\sin x$')\n",
        "ax = plt.gca()\n",
        "ax.set_ylim([-3, 3])\n",
        "ax.set_xlim([0, 8])\n",
        "plt.grid(True)\n",
        "plt.show()"
      ],
      "metadata": {
        "colab": {
          "base_uri": "https://localhost:8080/",
          "height": 474
        },
        "id": "Hko0F9J2IQck",
        "outputId": "d55a7e05-0900-4062-f690-316138319236"
      },
      "execution_count": 17,
      "outputs": [
        {
          "output_type": "display_data",
          "data": {
            "text/plain": [
              "<Figure size 640x480 with 1 Axes>"
            ],
            "image/png": "[encoded data removed]"
          },
          "metadata": {}
        }
      ]
    },
    {
      "cell_type": "markdown",
      "source": [
        "### Biseccion"
      ],
      "metadata": {
        "id": "5A4NofgNI0Mn"
      }
    },
    {
      "cell_type": "code",
      "source": [
        "from typing import Callable\n",
        "def sign(x: float) -> int:\n",
        "    if x > 0:\n",
        "        return 1\n",
        "    elif x < 0:\n",
        "        return -1\n",
        "    else:\n",
        "        return 0\n",
        "def bisection(\n",
        "    a: float, b: float, *, equation: Callable[[float], float], tol: float, N: int\n",
        ") -> tuple[float, float, float, int] | None:\n",
        "    i = 1\n",
        "\n",
        "    # Input validation\n",
        "    # Comente a continuación y vea qué sucede\n",
        "    assert a < b, \"a not lower than b, the interval is not valid.\"\n",
        "\n",
        "    # Comente a continuación y vea qué sucede\n",
        "    assert (\n",
        "        equation(a) * equation(b) < 0\n",
        "    ), \"The function does not change sign over the interval.\"\n",
        "\n",
        "    Fa = equation(a)\n",
        "    p = a # to avoid crash in i == 0.\n",
        "    for i in range(N):\n",
        "\n",
        "        # esta alternativa es suceptible de desborde, especialmente si a y b son muy grandes\n",
        "        # p = (a + b)/2\n",
        "\n",
        "        p = a + (b - a) / 2\n",
        "        FP = equation(p)\n",
        "        if FP == 0 or (b - a) / 2 < tol:\n",
        "            return p, a, b, i\n",
        "\n",
        "        if sign(Fa) * sign(FP) > 0:\n",
        "\n",
        "            # esta alternativa podría causar también un desborde\n",
        "            # if Fa * FP > 0:\n",
        "\n",
        "            a = p\n",
        "            Fa = FP\n",
        "        else:\n",
        "            b = p\n",
        "\n",
        "    # Respuesta temporal\n",
        "    return p, a, b, i\n",
        "\n",
        "    # Es mejor usar esta opción, cuando el algoritmo no llega a una tolerancia en\n",
        "    # las iteraciones dadas.\n",
        "\n",
        "    # raise ValueError(\n",
        "    #     \"Solution not found within the given tolerance and number of iterations\"\n",
        "    # )\n",
        "def equation(x: float) -> float:\n",
        "    return x-2*np.sin(x)"
      ],
      "metadata": {
        "id": "wA__GwteI2Mj"
      },
      "execution_count": 19,
      "outputs": []
    },
    {
      "cell_type": "code",
      "source": [
        "import numpy as np\n",
        "import matplotlib.pyplot as plt\n",
        "from ipywidgets import interactive\n",
        "\n",
        "\n",
        "def plotting(a, b, i):\n",
        "    x = np.linspace(a, b, 100)\n",
        "\n",
        "    y = equation(x)\n",
        "    x_i = x[0]\n",
        "    try:\n",
        "      x_i, a2, b2, i = bisection(a, b, equation=equation, tol=10e-5, N=i)\n",
        "      all = True\n",
        "    except Exception as e:\n",
        "      all = False\n",
        "      print(e)\n",
        "      a2 = b2 = (a + b)/2\n",
        "\n",
        "    ax = plt.gca()\n",
        "    ax.cla()\n",
        "    plt.plot(x, y);\n",
        "\n",
        "    plt.xlabel('x');\n",
        "    plt.ylabel('y');\n",
        "    plt.title('Plot of $x-2\\sin x =0$');\n",
        "    plt.scatter(a, equation(a), color='blue', label='initial left lim');\n",
        "    plt.scatter(b, equation(b), color='blue', label='initial right lim');\n",
        "    if all:\n",
        "      plt.scatter(a2, equation(a2), color='red')\n",
        "      plt.scatter(b2, equation(b2), color='red')\n",
        "      plt.scatter(x_i, 0, color='green', marker = \"s\", label='root');\n",
        "\n",
        "      plt.hlines(0, a, b, colors= \"black\")\n",
        "    plt.grid(True);\n",
        "    plt.legend();\n",
        "\n",
        "    plt.show();\n",
        "\n",
        "interactive_plot = interactive(plotting, a=(-5,5,.1), b=(-5,5,.1), i=(0,11,1))\n",
        "display(interactive_plot);\n"
      ],
      "metadata": {
        "colab": {
          "base_uri": "https://localhost:8080/",
          "height": 568,
          "referenced_widgets": [
            "8914c1afae624371a90e0266f0ee9378",
            "f5caa740c1f04e88beb08767e516df57",
            "8e6e1cda96c14e8e9298c55e9b2824e7",
            "e2a95f3418e4471e9a7e9abdba99ec72",
            "650d7f281989484ca77be0b2c9c46478",
            "618b2e6a6e60459bb17582529c950aa4",
            "e5828b8e02994d82942d1c97d18ae641",
            "a7a81a577eba43218a7cdc853c3723d2",
            "285233ff081b42769c02b1cedc336d1c",
            "70c6984601414d9a808adde3dc938e15",
            "6d7bc0d3087c4831a1f2658a26fcd932",
            "30327e1b922046f49af751a729bf982a",
            "fa55f08d2b3e4f8da958a7bdad502edb"
          ]
        },
        "id": "pJdLP9MnI9po",
        "outputId": "12d7bb39-b057-4cdc-8223-d9d2870c3e62"
      },
      "execution_count": 20,
      "outputs": [
        {
          "output_type": "display_data",
          "data": {
            "text/plain": [
              "interactive(children=(FloatSlider(value=0.0, description='a', max=5.0, min=-5.0), FloatSlider(value=0.0, descr…"
            ],
            "application/vnd.jupyter.widget-view+json": {
              "version_major": 2,
              "version_minor": 0,
              "model_id": "8914c1afae624371a90e0266f0ee9378"
            }
          },
          "metadata": {}
        }
      ]
    }
  ]
}